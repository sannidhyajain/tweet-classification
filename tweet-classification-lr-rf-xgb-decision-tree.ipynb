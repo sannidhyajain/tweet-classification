{
 "cells": [
  {
   "cell_type": "code",
   "execution_count": 1,
   "id": "12172c6b",
   "metadata": {
    "_cell_guid": "b1076dfc-b9ad-4769-8c92-a6c4dae69d19",
    "_uuid": "8f2839f25d086af736a60e9eeb907d3b93b6e0e5",
    "execution": {
     "iopub.execute_input": "2024-02-21T15:35:17.558104Z",
     "iopub.status.busy": "2024-02-21T15:35:17.557666Z",
     "iopub.status.idle": "2024-02-21T15:35:18.577965Z",
     "shell.execute_reply": "2024-02-21T15:35:18.576353Z"
    },
    "papermill": {
     "duration": 1.037758,
     "end_time": "2024-02-21T15:35:18.580626",
     "exception": false,
     "start_time": "2024-02-21T15:35:17.542868",
     "status": "completed"
    },
    "tags": []
   },
   "outputs": [
    {
     "name": "stdout",
     "output_type": "stream",
     "text": [
      "/kaggle/input/nlp-getting-started/sample_submission.csv\n",
      "/kaggle/input/nlp-getting-started/train.csv\n",
      "/kaggle/input/nlp-getting-started/test.csv\n"
     ]
    }
   ],
   "source": [
    "# This Python 3 environment comes with many helpful analytics libraries installed\n",
    "# It is defined by the kaggle/python Docker image: https://github.com/kaggle/docker-python\n",
    "# For example, here's several helpful packages to load\n",
    "\n",
    "import numpy as np # linear algebra\n",
    "import pandas as pd # data processing, CSV file I/O (e.g. pd.read_csv)\n",
    "\n",
    "# Input data files are available in the read-only \"../input/\" directory\n",
    "# For example, running this (by clicking run or pressing Shift+Enter) will list all files under the input directory\n",
    "\n",
    "import os\n",
    "for dirname, _, filenames in os.walk('/kaggle/input'):\n",
    "    for filename in filenames:\n",
    "        print(os.path.join(dirname, filename))\n",
    "\n",
    "# You can write up to 20GB to the current directory (/kaggle/working/) that gets preserved as output when you create a version using \"Save & Run All\" \n",
    "# You can also write temporary files to /kaggle/temp/, but they won't be saved outside of the current session"
   ]
  },
  {
   "cell_type": "markdown",
   "id": "191109a8",
   "metadata": {
    "papermill": {
     "duration": 0.012692,
     "end_time": "2024-02-21T15:35:18.606535",
     "exception": false,
     "start_time": "2024-02-21T15:35:18.593843",
     "status": "completed"
    },
    "tags": []
   },
   "source": [
    "# Importing and Exploring Data \n",
    "* ## Exploration is done on train.csv, but preprocessing based on training exploration is done on both training and testing data simultaneously"
   ]
  },
  {
   "cell_type": "code",
   "execution_count": 2,
   "id": "c10dee74",
   "metadata": {
    "execution": {
     "iopub.execute_input": "2024-02-21T15:35:18.634474Z",
     "iopub.status.busy": "2024-02-21T15:35:18.633968Z",
     "iopub.status.idle": "2024-02-21T15:35:18.751931Z",
     "shell.execute_reply": "2024-02-21T15:35:18.750754Z"
    },
    "papermill": {
     "duration": 0.135547,
     "end_time": "2024-02-21T15:35:18.754758",
     "exception": false,
     "start_time": "2024-02-21T15:35:18.619211",
     "status": "completed"
    },
    "tags": []
   },
   "outputs": [
    {
     "data": {
      "text/html": [
       "<div>\n",
       "<style scoped>\n",
       "    .dataframe tbody tr th:only-of-type {\n",
       "        vertical-align: middle;\n",
       "    }\n",
       "\n",
       "    .dataframe tbody tr th {\n",
       "        vertical-align: top;\n",
       "    }\n",
       "\n",
       "    .dataframe thead th {\n",
       "        text-align: right;\n",
       "    }\n",
       "</style>\n",
       "<table border=\"1\" class=\"dataframe\">\n",
       "  <thead>\n",
       "    <tr style=\"text-align: right;\">\n",
       "      <th></th>\n",
       "      <th>id</th>\n",
       "      <th>keyword</th>\n",
       "      <th>location</th>\n",
       "      <th>text</th>\n",
       "      <th>target</th>\n",
       "    </tr>\n",
       "  </thead>\n",
       "  <tbody>\n",
       "    <tr>\n",
       "      <th>0</th>\n",
       "      <td>1</td>\n",
       "      <td>NaN</td>\n",
       "      <td>NaN</td>\n",
       "      <td>Our Deeds are the Reason of this #earthquake M...</td>\n",
       "      <td>1</td>\n",
       "    </tr>\n",
       "    <tr>\n",
       "      <th>1</th>\n",
       "      <td>4</td>\n",
       "      <td>NaN</td>\n",
       "      <td>NaN</td>\n",
       "      <td>Forest fire near La Ronge Sask. Canada</td>\n",
       "      <td>1</td>\n",
       "    </tr>\n",
       "    <tr>\n",
       "      <th>2</th>\n",
       "      <td>5</td>\n",
       "      <td>NaN</td>\n",
       "      <td>NaN</td>\n",
       "      <td>All residents asked to 'shelter in place' are ...</td>\n",
       "      <td>1</td>\n",
       "    </tr>\n",
       "    <tr>\n",
       "      <th>3</th>\n",
       "      <td>6</td>\n",
       "      <td>NaN</td>\n",
       "      <td>NaN</td>\n",
       "      <td>13,000 people receive #wildfires evacuation or...</td>\n",
       "      <td>1</td>\n",
       "    </tr>\n",
       "    <tr>\n",
       "      <th>4</th>\n",
       "      <td>7</td>\n",
       "      <td>NaN</td>\n",
       "      <td>NaN</td>\n",
       "      <td>Just got sent this photo from Ruby #Alaska as ...</td>\n",
       "      <td>1</td>\n",
       "    </tr>\n",
       "    <tr>\n",
       "      <th>5</th>\n",
       "      <td>8</td>\n",
       "      <td>NaN</td>\n",
       "      <td>NaN</td>\n",
       "      <td>#RockyFire Update =&gt; California Hwy. 20 closed...</td>\n",
       "      <td>1</td>\n",
       "    </tr>\n",
       "    <tr>\n",
       "      <th>6</th>\n",
       "      <td>10</td>\n",
       "      <td>NaN</td>\n",
       "      <td>NaN</td>\n",
       "      <td>#flood #disaster Heavy rain causes flash flood...</td>\n",
       "      <td>1</td>\n",
       "    </tr>\n",
       "    <tr>\n",
       "      <th>7</th>\n",
       "      <td>13</td>\n",
       "      <td>NaN</td>\n",
       "      <td>NaN</td>\n",
       "      <td>I'm on top of the hill and I can see a fire in...</td>\n",
       "      <td>1</td>\n",
       "    </tr>\n",
       "    <tr>\n",
       "      <th>8</th>\n",
       "      <td>14</td>\n",
       "      <td>NaN</td>\n",
       "      <td>NaN</td>\n",
       "      <td>There's an emergency evacuation happening now ...</td>\n",
       "      <td>1</td>\n",
       "    </tr>\n",
       "    <tr>\n",
       "      <th>9</th>\n",
       "      <td>15</td>\n",
       "      <td>NaN</td>\n",
       "      <td>NaN</td>\n",
       "      <td>I'm afraid that the tornado is coming to our a...</td>\n",
       "      <td>1</td>\n",
       "    </tr>\n",
       "  </tbody>\n",
       "</table>\n",
       "</div>"
      ],
      "text/plain": [
       "   id keyword location                                               text  \\\n",
       "0   1     NaN      NaN  Our Deeds are the Reason of this #earthquake M...   \n",
       "1   4     NaN      NaN             Forest fire near La Ronge Sask. Canada   \n",
       "2   5     NaN      NaN  All residents asked to 'shelter in place' are ...   \n",
       "3   6     NaN      NaN  13,000 people receive #wildfires evacuation or...   \n",
       "4   7     NaN      NaN  Just got sent this photo from Ruby #Alaska as ...   \n",
       "5   8     NaN      NaN  #RockyFire Update => California Hwy. 20 closed...   \n",
       "6  10     NaN      NaN  #flood #disaster Heavy rain causes flash flood...   \n",
       "7  13     NaN      NaN  I'm on top of the hill and I can see a fire in...   \n",
       "8  14     NaN      NaN  There's an emergency evacuation happening now ...   \n",
       "9  15     NaN      NaN  I'm afraid that the tornado is coming to our a...   \n",
       "\n",
       "   target  \n",
       "0       1  \n",
       "1       1  \n",
       "2       1  \n",
       "3       1  \n",
       "4       1  \n",
       "5       1  \n",
       "6       1  \n",
       "7       1  \n",
       "8       1  \n",
       "9       1  "
      ]
     },
     "execution_count": 2,
     "metadata": {},
     "output_type": "execute_result"
    }
   ],
   "source": [
    "unclean_train=pd.read_csv('/kaggle/input/nlp-getting-started/train.csv')\n",
    "unclean_test=pd.read_csv('/kaggle/input/nlp-getting-started/test.csv')\n",
    "unclean_train.head(10)"
   ]
  },
  {
   "cell_type": "code",
   "execution_count": 3,
   "id": "19ade535",
   "metadata": {
    "execution": {
     "iopub.execute_input": "2024-02-21T15:35:18.784813Z",
     "iopub.status.busy": "2024-02-21T15:35:18.783576Z",
     "iopub.status.idle": "2024-02-21T15:35:18.790946Z",
     "shell.execute_reply": "2024-02-21T15:35:18.789854Z"
    },
    "papermill": {
     "duration": 0.025843,
     "end_time": "2024-02-21T15:35:18.793773",
     "exception": false,
     "start_time": "2024-02-21T15:35:18.767930",
     "status": "completed"
    },
    "tags": []
   },
   "outputs": [
    {
     "data": {
      "text/plain": [
       "7613"
      ]
     },
     "execution_count": 3,
     "metadata": {},
     "output_type": "execute_result"
    }
   ],
   "source": [
    "# No. of rows in the dataset\n",
    "len(unclean_train)"
   ]
  },
  {
   "cell_type": "code",
   "execution_count": 4,
   "id": "8af04462",
   "metadata": {
    "execution": {
     "iopub.execute_input": "2024-02-21T15:35:18.822349Z",
     "iopub.status.busy": "2024-02-21T15:35:18.821602Z",
     "iopub.status.idle": "2024-02-21T15:35:18.853073Z",
     "shell.execute_reply": "2024-02-21T15:35:18.852163Z"
    },
    "papermill": {
     "duration": 0.048459,
     "end_time": "2024-02-21T15:35:18.855479",
     "exception": false,
     "start_time": "2024-02-21T15:35:18.807020",
     "status": "completed"
    },
    "tags": []
   },
   "outputs": [
    {
     "name": "stdout",
     "output_type": "stream",
     "text": [
      "<class 'pandas.core.frame.DataFrame'>\n",
      "RangeIndex: 7613 entries, 0 to 7612\n",
      "Data columns (total 5 columns):\n",
      " #   Column    Non-Null Count  Dtype \n",
      "---  ------    --------------  ----- \n",
      " 0   id        7613 non-null   int64 \n",
      " 1   keyword   7552 non-null   object\n",
      " 2   location  5080 non-null   object\n",
      " 3   text      7613 non-null   object\n",
      " 4   target    7613 non-null   int64 \n",
      "dtypes: int64(2), object(3)\n",
      "memory usage: 297.5+ KB\n"
     ]
    }
   ],
   "source": [
    "#Some NULL objects present in 'keyword' and 'location', but not in 'id', 'text', and 'target'\n",
    "unclean_train.info()"
   ]
  },
  {
   "cell_type": "code",
   "execution_count": 5,
   "id": "91412afe",
   "metadata": {
    "execution": {
     "iopub.execute_input": "2024-02-21T15:35:18.884940Z",
     "iopub.status.busy": "2024-02-21T15:35:18.884222Z",
     "iopub.status.idle": "2024-02-21T15:35:18.893478Z",
     "shell.execute_reply": "2024-02-21T15:35:18.892597Z"
    },
    "papermill": {
     "duration": 0.026637,
     "end_time": "2024-02-21T15:35:18.895912",
     "exception": false,
     "start_time": "2024-02-21T15:35:18.869275",
     "status": "completed"
    },
    "tags": []
   },
   "outputs": [
    {
     "data": {
      "text/plain": [
       "target\n",
       "0    4342\n",
       "1    3271\n",
       "Name: count, dtype: int64"
      ]
     },
     "execution_count": 5,
     "metadata": {},
     "output_type": "execute_result"
    }
   ],
   "source": [
    "#Number of values for each of class 0 and calss 1\n",
    "unclean_train['target'].value_counts()"
   ]
  },
  {
   "cell_type": "code",
   "execution_count": 6,
   "id": "684ccc0a",
   "metadata": {
    "execution": {
     "iopub.execute_input": "2024-02-21T15:35:18.924833Z",
     "iopub.status.busy": "2024-02-21T15:35:18.924360Z",
     "iopub.status.idle": "2024-02-21T15:35:18.936349Z",
     "shell.execute_reply": "2024-02-21T15:35:18.935104Z"
    },
    "papermill": {
     "duration": 0.029387,
     "end_time": "2024-02-21T15:35:18.938914",
     "exception": false,
     "start_time": "2024-02-21T15:35:18.909527",
     "status": "completed"
    },
    "tags": []
   },
   "outputs": [
    {
     "data": {
      "text/plain": [
       "keyword\n",
       "fatalities               45\n",
       "deluge                   42\n",
       "armageddon               42\n",
       "sinking                  41\n",
       "damage                   41\n",
       "                         ..\n",
       "forest%20fire            19\n",
       "epicentre                12\n",
       "threat                   11\n",
       "inundation               10\n",
       "radiation%20emergency     9\n",
       "Name: count, Length: 221, dtype: int64"
      ]
     },
     "execution_count": 6,
     "metadata": {},
     "output_type": "execute_result"
    }
   ],
   "source": [
    "unclean_train['keyword'].value_counts()"
   ]
  },
  {
   "cell_type": "code",
   "execution_count": 7,
   "id": "dec23d37",
   "metadata": {
    "execution": {
     "iopub.execute_input": "2024-02-21T15:35:18.968171Z",
     "iopub.status.busy": "2024-02-21T15:35:18.967710Z",
     "iopub.status.idle": "2024-02-21T15:35:18.976204Z",
     "shell.execute_reply": "2024-02-21T15:35:18.974998Z"
    },
    "papermill": {
     "duration": 0.026044,
     "end_time": "2024-02-21T15:35:18.978773",
     "exception": false,
     "start_time": "2024-02-21T15:35:18.952729",
     "status": "completed"
    },
    "tags": []
   },
   "outputs": [
    {
     "data": {
      "text/plain": [
       "61"
      ]
     },
     "execution_count": 7,
     "metadata": {},
     "output_type": "execute_result"
    }
   ],
   "source": [
    "unclean_train['keyword'].isnull().sum()"
   ]
  },
  {
   "cell_type": "code",
   "execution_count": 8,
   "id": "b32587e0",
   "metadata": {
    "execution": {
     "iopub.execute_input": "2024-02-21T15:35:19.009515Z",
     "iopub.status.busy": "2024-02-21T15:35:19.009105Z",
     "iopub.status.idle": "2024-02-21T15:35:19.026619Z",
     "shell.execute_reply": "2024-02-21T15:35:19.025731Z"
    },
    "papermill": {
     "duration": 0.03564,
     "end_time": "2024-02-21T15:35:19.029089",
     "exception": false,
     "start_time": "2024-02-21T15:35:18.993449",
     "status": "completed"
    },
    "tags": []
   },
   "outputs": [
    {
     "data": {
      "text/html": [
       "<div>\n",
       "<style scoped>\n",
       "    .dataframe tbody tr th:only-of-type {\n",
       "        vertical-align: middle;\n",
       "    }\n",
       "\n",
       "    .dataframe tbody tr th {\n",
       "        vertical-align: top;\n",
       "    }\n",
       "\n",
       "    .dataframe thead th {\n",
       "        text-align: right;\n",
       "    }\n",
       "</style>\n",
       "<table border=\"1\" class=\"dataframe\">\n",
       "  <thead>\n",
       "    <tr style=\"text-align: right;\">\n",
       "      <th></th>\n",
       "      <th>id</th>\n",
       "      <th>text</th>\n",
       "      <th>target</th>\n",
       "    </tr>\n",
       "  </thead>\n",
       "  <tbody>\n",
       "    <tr>\n",
       "      <th>0</th>\n",
       "      <td>1</td>\n",
       "      <td>Our Deeds are the Reason of this #earthquake M...</td>\n",
       "      <td>1</td>\n",
       "    </tr>\n",
       "    <tr>\n",
       "      <th>1</th>\n",
       "      <td>4</td>\n",
       "      <td>Forest fire near La Ronge Sask. Canada</td>\n",
       "      <td>1</td>\n",
       "    </tr>\n",
       "    <tr>\n",
       "      <th>2</th>\n",
       "      <td>5</td>\n",
       "      <td>All residents asked to 'shelter in place' are ...</td>\n",
       "      <td>1</td>\n",
       "    </tr>\n",
       "    <tr>\n",
       "      <th>3</th>\n",
       "      <td>6</td>\n",
       "      <td>13,000 people receive #wildfires evacuation or...</td>\n",
       "      <td>1</td>\n",
       "    </tr>\n",
       "    <tr>\n",
       "      <th>4</th>\n",
       "      <td>7</td>\n",
       "      <td>Just got sent this photo from Ruby #Alaska as ...</td>\n",
       "      <td>1</td>\n",
       "    </tr>\n",
       "  </tbody>\n",
       "</table>\n",
       "</div>"
      ],
      "text/plain": [
       "   id                                               text  target\n",
       "0   1  Our Deeds are the Reason of this #earthquake M...       1\n",
       "1   4             Forest fire near La Ronge Sask. Canada       1\n",
       "2   5  All residents asked to 'shelter in place' are ...       1\n",
       "3   6  13,000 people receive #wildfires evacuation or...       1\n",
       "4   7  Just got sent this photo from Ruby #Alaska as ...       1"
      ]
     },
     "execution_count": 8,
     "metadata": {},
     "output_type": "execute_result"
    }
   ],
   "source": [
    "#Dropping features not deemed important \n",
    "unclean_train.drop(['keyword','location'],axis=1,inplace=True)\n",
    "unclean_test.drop(['keyword','location'],axis=1,inplace=True)\n",
    "\n",
    "unclean_train.head()"
   ]
  },
  {
   "cell_type": "code",
   "execution_count": 9,
   "id": "b0f8e950",
   "metadata": {
    "execution": {
     "iopub.execute_input": "2024-02-21T15:35:19.059429Z",
     "iopub.status.busy": "2024-02-21T15:35:19.058732Z",
     "iopub.status.idle": "2024-02-21T15:35:19.070985Z",
     "shell.execute_reply": "2024-02-21T15:35:19.069724Z"
    },
    "papermill": {
     "duration": 0.030227,
     "end_time": "2024-02-21T15:35:19.073685",
     "exception": false,
     "start_time": "2024-02-21T15:35:19.043458",
     "status": "completed"
    },
    "tags": []
   },
   "outputs": [
    {
     "data": {
      "text/plain": [
       "target\n",
       "0    4305\n",
       "1    3198\n",
       "Name: count, dtype: int64"
      ]
     },
     "execution_count": 9,
     "metadata": {},
     "output_type": "execute_result"
    }
   ],
   "source": [
    "#Duplicates are removes from training dataset to increase efficiency and reduce redundancy\n",
    "unclean_train.drop_duplicates('text',keep='first',inplace=True)\n",
    "\n",
    "#This is NOT to be done on test dataset.\n",
    "\n",
    "unclean_train['target'].value_counts()"
   ]
  },
  {
   "cell_type": "code",
   "execution_count": 10,
   "id": "8e66e297",
   "metadata": {
    "execution": {
     "iopub.execute_input": "2024-02-21T15:35:19.105738Z",
     "iopub.status.busy": "2024-02-21T15:35:19.104542Z",
     "iopub.status.idle": "2024-02-21T15:35:19.116117Z",
     "shell.execute_reply": "2024-02-21T15:35:19.114848Z"
    },
    "papermill": {
     "duration": 0.029809,
     "end_time": "2024-02-21T15:35:19.118796",
     "exception": false,
     "start_time": "2024-02-21T15:35:19.088987",
     "status": "completed"
    },
    "tags": []
   },
   "outputs": [
    {
     "data": {
      "text/html": [
       "<div>\n",
       "<style scoped>\n",
       "    .dataframe tbody tr th:only-of-type {\n",
       "        vertical-align: middle;\n",
       "    }\n",
       "\n",
       "    .dataframe tbody tr th {\n",
       "        vertical-align: top;\n",
       "    }\n",
       "\n",
       "    .dataframe thead th {\n",
       "        text-align: right;\n",
       "    }\n",
       "</style>\n",
       "<table border=\"1\" class=\"dataframe\">\n",
       "  <thead>\n",
       "    <tr style=\"text-align: right;\">\n",
       "      <th></th>\n",
       "      <th>id</th>\n",
       "      <th>text</th>\n",
       "      <th>target</th>\n",
       "    </tr>\n",
       "  </thead>\n",
       "  <tbody>\n",
       "    <tr>\n",
       "      <th>0</th>\n",
       "      <td>1</td>\n",
       "      <td>Our Deeds are the Reason of this #earthquake M...</td>\n",
       "      <td>1</td>\n",
       "    </tr>\n",
       "    <tr>\n",
       "      <th>1</th>\n",
       "      <td>4</td>\n",
       "      <td>Forest fire near La Ronge Sask. Canada</td>\n",
       "      <td>1</td>\n",
       "    </tr>\n",
       "    <tr>\n",
       "      <th>2</th>\n",
       "      <td>5</td>\n",
       "      <td>All residents asked to 'shelter in place' are ...</td>\n",
       "      <td>1</td>\n",
       "    </tr>\n",
       "    <tr>\n",
       "      <th>3</th>\n",
       "      <td>6</td>\n",
       "      <td>13,000 people receive #wildfires evacuation or...</td>\n",
       "      <td>1</td>\n",
       "    </tr>\n",
       "    <tr>\n",
       "      <th>4</th>\n",
       "      <td>7</td>\n",
       "      <td>Just got sent this photo from Ruby #Alaska as ...</td>\n",
       "      <td>1</td>\n",
       "    </tr>\n",
       "  </tbody>\n",
       "</table>\n",
       "</div>"
      ],
      "text/plain": [
       "   id                                               text  target\n",
       "0   1  Our Deeds are the Reason of this #earthquake M...       1\n",
       "1   4             Forest fire near La Ronge Sask. Canada       1\n",
       "2   5  All residents asked to 'shelter in place' are ...       1\n",
       "3   6  13,000 people receive #wildfires evacuation or...       1\n",
       "4   7  Just got sent this photo from Ruby #Alaska as ...       1"
      ]
     },
     "execution_count": 10,
     "metadata": {},
     "output_type": "execute_result"
    }
   ],
   "source": [
    "unclean_train.head()"
   ]
  },
  {
   "cell_type": "code",
   "execution_count": 11,
   "id": "0a158497",
   "metadata": {
    "execution": {
     "iopub.execute_input": "2024-02-21T15:35:19.149512Z",
     "iopub.status.busy": "2024-02-21T15:35:19.149056Z",
     "iopub.status.idle": "2024-02-21T15:35:19.158099Z",
     "shell.execute_reply": "2024-02-21T15:35:19.157284Z"
    },
    "papermill": {
     "duration": 0.027125,
     "end_time": "2024-02-21T15:35:19.160320",
     "exception": false,
     "start_time": "2024-02-21T15:35:19.133195",
     "status": "completed"
    },
    "tags": []
   },
   "outputs": [
    {
     "data": {
      "text/plain": [
       "0           1\n",
       "1           4\n",
       "2           5\n",
       "3           6\n",
       "4           7\n",
       "        ...  \n",
       "7604    10863\n",
       "7605    10864\n",
       "7606    10866\n",
       "7608    10869\n",
       "7612    10873\n",
       "Name: id, Length: 7503, dtype: int64"
      ]
     },
     "execution_count": 11,
     "metadata": {},
     "output_type": "execute_result"
    }
   ],
   "source": [
    "#id column is not needed for training, but required in submission.csv, so we store is safely away\n",
    "ids_train=unclean_train['id']\n",
    "ids_test=unclean_test['id']\n",
    "ids_train"
   ]
  },
  {
   "cell_type": "code",
   "execution_count": 12,
   "id": "38c35a7e",
   "metadata": {
    "execution": {
     "iopub.execute_input": "2024-02-21T15:35:19.193936Z",
     "iopub.status.busy": "2024-02-21T15:35:19.193235Z",
     "iopub.status.idle": "2024-02-21T15:35:19.206164Z",
     "shell.execute_reply": "2024-02-21T15:35:19.205215Z"
    },
    "papermill": {
     "duration": 0.033418,
     "end_time": "2024-02-21T15:35:19.208946",
     "exception": false,
     "start_time": "2024-02-21T15:35:19.175528",
     "status": "completed"
    },
    "tags": []
   },
   "outputs": [
    {
     "data": {
      "text/html": [
       "<div>\n",
       "<style scoped>\n",
       "    .dataframe tbody tr th:only-of-type {\n",
       "        vertical-align: middle;\n",
       "    }\n",
       "\n",
       "    .dataframe tbody tr th {\n",
       "        vertical-align: top;\n",
       "    }\n",
       "\n",
       "    .dataframe thead th {\n",
       "        text-align: right;\n",
       "    }\n",
       "</style>\n",
       "<table border=\"1\" class=\"dataframe\">\n",
       "  <thead>\n",
       "    <tr style=\"text-align: right;\">\n",
       "      <th></th>\n",
       "      <th>text</th>\n",
       "      <th>target</th>\n",
       "    </tr>\n",
       "  </thead>\n",
       "  <tbody>\n",
       "    <tr>\n",
       "      <th>0</th>\n",
       "      <td>Our Deeds are the Reason of this #earthquake M...</td>\n",
       "      <td>1</td>\n",
       "    </tr>\n",
       "    <tr>\n",
       "      <th>1</th>\n",
       "      <td>Forest fire near La Ronge Sask. Canada</td>\n",
       "      <td>1</td>\n",
       "    </tr>\n",
       "    <tr>\n",
       "      <th>2</th>\n",
       "      <td>All residents asked to 'shelter in place' are ...</td>\n",
       "      <td>1</td>\n",
       "    </tr>\n",
       "    <tr>\n",
       "      <th>3</th>\n",
       "      <td>13,000 people receive #wildfires evacuation or...</td>\n",
       "      <td>1</td>\n",
       "    </tr>\n",
       "    <tr>\n",
       "      <th>4</th>\n",
       "      <td>Just got sent this photo from Ruby #Alaska as ...</td>\n",
       "      <td>1</td>\n",
       "    </tr>\n",
       "  </tbody>\n",
       "</table>\n",
       "</div>"
      ],
      "text/plain": [
       "                                                text  target\n",
       "0  Our Deeds are the Reason of this #earthquake M...       1\n",
       "1             Forest fire near La Ronge Sask. Canada       1\n",
       "2  All residents asked to 'shelter in place' are ...       1\n",
       "3  13,000 people receive #wildfires evacuation or...       1\n",
       "4  Just got sent this photo from Ruby #Alaska as ...       1"
      ]
     },
     "execution_count": 12,
     "metadata": {},
     "output_type": "execute_result"
    }
   ],
   "source": [
    "inter_train=unclean_train.drop('id',axis=1)\n",
    "inter_test=unclean_test.drop('id',axis=1)\n",
    "inter_train.head()"
   ]
  },
  {
   "cell_type": "markdown",
   "id": "a9feb94d",
   "metadata": {
    "papermill": {
     "duration": 0.01538,
     "end_time": "2024-02-21T15:35:19.239216",
     "exception": false,
     "start_time": "2024-02-21T15:35:19.223836",
     "status": "completed"
    },
    "tags": []
   },
   "source": [
    "# Data Cleaning\n",
    "* ## Powerful tools of regex and nltk are used to clean text"
   ]
  },
  {
   "cell_type": "code",
   "execution_count": 13,
   "id": "7f73d05a",
   "metadata": {
    "execution": {
     "iopub.execute_input": "2024-02-21T15:35:19.271354Z",
     "iopub.status.busy": "2024-02-21T15:35:19.270698Z",
     "iopub.status.idle": "2024-02-21T15:35:19.280198Z",
     "shell.execute_reply": "2024-02-21T15:35:19.278736Z"
    },
    "papermill": {
     "duration": 0.028695,
     "end_time": "2024-02-21T15:35:19.282857",
     "exception": false,
     "start_time": "2024-02-21T15:35:19.254162",
     "status": "completed"
    },
    "tags": []
   },
   "outputs": [],
   "source": [
    "import re   #regex\n",
    "import string\n",
    "def clean_text_round1(text): #Sq. brackets, punctiuations, quotation marks etc, which don't add meaning to core of text is removed\n",
    "    \n",
    "    text = str(text).lower() #All UPPERCASE alphabets reduces to lowercase\n",
    "#   text = re.sub('\\[.*?\\]', '', text) #removes text in sq. brackets, incl. the brackets; not needed here\n",
    "    text = re.sub(r'\\[|\\]', '', text) #removes only square brackets\n",
    "    text = re.sub('<.*?>+', '', text) #removes HTML tags\n",
    "    text = re.sub('[%s]' % re.escape(string.punctuation), '', text) #removes punctuation\n",
    "    text = re.sub('\\d', '', text) #removes digits\n",
    "    text = re.sub('[“”…]', '', text) #removes double quotation marks; single quotations not removed to facilitate contraction of words such as can't to cannot, don't to do not, etc...\n",
    "    text = re.sub('\\n', '', text) #removes newlines\n",
    "    \n",
    "    text = re.sub(r'https?\\S+|www\\.\\S+', '', text) #removes links\n",
    "    text = re.sub('\\s+', ' ', text) #removes extra white spaces\n",
    "    text = re.sub('[^A-Za-z0-9\\s]', '', text) #removes misc. symbols\n",
    "#     print(text)\n",
    "    return text\n",
    "    "
   ]
  },
  {
   "cell_type": "code",
   "execution_count": 14,
   "id": "13f07b8b",
   "metadata": {
    "execution": {
     "iopub.execute_input": "2024-02-21T15:35:19.314836Z",
     "iopub.status.busy": "2024-02-21T15:35:19.314392Z",
     "iopub.status.idle": "2024-02-21T15:35:37.197807Z",
     "shell.execute_reply": "2024-02-21T15:35:37.196421Z"
    },
    "papermill": {
     "duration": 17.902998,
     "end_time": "2024-02-21T15:35:37.200789",
     "exception": false,
     "start_time": "2024-02-21T15:35:19.297791",
     "status": "completed"
    },
    "tags": []
   },
   "outputs": [
    {
     "name": "stdout",
     "output_type": "stream",
     "text": [
      "Collecting contractions\r\n",
      "  Downloading contractions-0.1.73-py2.py3-none-any.whl.metadata (1.2 kB)\r\n",
      "Collecting textsearch>=0.0.21 (from contractions)\r\n",
      "  Downloading textsearch-0.0.24-py2.py3-none-any.whl.metadata (1.2 kB)\r\n",
      "Collecting anyascii (from textsearch>=0.0.21->contractions)\r\n",
      "  Downloading anyascii-0.3.2-py3-none-any.whl.metadata (1.5 kB)\r\n",
      "Collecting pyahocorasick (from textsearch>=0.0.21->contractions)\r\n",
      "  Downloading pyahocorasick-2.0.0-cp310-cp310-manylinux_2_5_x86_64.manylinux1_x86_64.manylinux_2_12_x86_64.manylinux2010_x86_64.whl.metadata (13 kB)\r\n",
      "Downloading contractions-0.1.73-py2.py3-none-any.whl (8.7 kB)\r\n",
      "Downloading textsearch-0.0.24-py2.py3-none-any.whl (7.6 kB)\r\n",
      "Downloading anyascii-0.3.2-py3-none-any.whl (289 kB)\r\n",
      "\u001b[2K   \u001b[90m━━━━━━━━━━━━━━━━━━━━━━━━━━━━━━━━━━━━━━━━\u001b[0m \u001b[32m289.9/289.9 kB\u001b[0m \u001b[31m5.1 MB/s\u001b[0m eta \u001b[36m0:00:00\u001b[0m\r\n",
      "\u001b[?25hDownloading pyahocorasick-2.0.0-cp310-cp310-manylinux_2_5_x86_64.manylinux1_x86_64.manylinux_2_12_x86_64.manylinux2010_x86_64.whl (110 kB)\r\n",
      "\u001b[2K   \u001b[90m━━━━━━━━━━━━━━━━━━━━━━━━━━━━━━━━━━━━━━━━\u001b[0m \u001b[32m110.8/110.8 kB\u001b[0m \u001b[31m5.3 MB/s\u001b[0m eta \u001b[36m0:00:00\u001b[0m\r\n",
      "\u001b[?25hInstalling collected packages: pyahocorasick, anyascii, textsearch, contractions\r\n",
      "Successfully installed anyascii-0.3.2 contractions-0.1.73 pyahocorasick-2.0.0 textsearch-0.0.24\r\n"
     ]
    }
   ],
   "source": [
    "# facilitate contraction of words such as can't to cannot, don't to do not, etc...\n",
    "!pip install contractions\n",
    "from contractions import fix \n",
    "def contract(text):\n",
    "    text=fix(str(text))\n",
    "    return text"
   ]
  },
  {
   "cell_type": "code",
   "execution_count": 15,
   "id": "06d65408",
   "metadata": {
    "execution": {
     "iopub.execute_input": "2024-02-21T15:35:37.234803Z",
     "iopub.status.busy": "2024-02-21T15:35:37.234345Z",
     "iopub.status.idle": "2024-02-21T15:35:37.241063Z",
     "shell.execute_reply": "2024-02-21T15:35:37.239729Z"
    },
    "papermill": {
     "duration": 0.026916,
     "end_time": "2024-02-21T15:35:37.243760",
     "exception": false,
     "start_time": "2024-02-21T15:35:37.216844",
     "status": "completed"
    },
    "tags": []
   },
   "outputs": [],
   "source": [
    "### LEMMATISATION VIA NLTK IS NOT WORKING FOR SOME REASON... PLEASE FEEL FREE TO DEBUG AND LET ME KNOW TOO! ###\n",
    "\n",
    "\n",
    "# import nltk\n",
    "# from nltk.corpus import wordnet\n",
    "\n",
    "# # Download WordNet (if not already downloaded)\n",
    "# nltk.download('wordnet')\n",
    "# # nltk.download('corpora/wordnet')\n",
    "\n",
    "# def lemma(text):\n",
    "#     # Tokenize the text\n",
    "#     # text = \"This is a sentence with words to lemmatize.\"\n",
    "#     tokens = nltk.word_tokenize(text)\n",
    "\n",
    "#     # Initialize the WordNetLemmatizer\n",
    "#     lemmatizer = wordnet.WordNetLemmatizer()\n",
    "\n",
    "#     # Lemmatize each token\n",
    "#     lemmatized_tokens = [lemmatizer.lemmatize(token) for token in tokens]\n",
    "\n",
    "#     # Join the lemmatized tokens back into a string\n",
    "#     lemmatized_text = \" \".join(lemmatized_tokens)\n",
    "\n",
    "#     return lemmatized_text  # Output: \"This is a sentence with words to lemma\"\n"
   ]
  },
  {
   "cell_type": "code",
   "execution_count": 16,
   "id": "a859acb1",
   "metadata": {
    "execution": {
     "iopub.execute_input": "2024-02-21T15:35:37.278530Z",
     "iopub.status.busy": "2024-02-21T15:35:37.278150Z",
     "iopub.status.idle": "2024-02-21T15:35:44.677043Z",
     "shell.execute_reply": "2024-02-21T15:35:44.675494Z"
    },
    "papermill": {
     "duration": 7.41996,
     "end_time": "2024-02-21T15:35:44.680115",
     "exception": false,
     "start_time": "2024-02-21T15:35:37.260155",
     "status": "completed"
    },
    "tags": []
   },
   "outputs": [],
   "source": [
    "### LEMMATISATION ###\n",
    "\n",
    "import spacy\n",
    "\n",
    "# Load the spaCy English model (if not already installed)\n",
    "nlp = spacy.load(\"en_core_web_sm\")\n",
    "\n",
    "def lemm(text):\n",
    "    # Process the text\n",
    "    doc = nlp(text)\n",
    "\n",
    "    # Get the lemmas of each token\n",
    "    lemmatized_tokens = [token.lemma_ for token in doc]\n",
    "\n",
    "    # Join the lemmatized tokens back into a string\n",
    "    lemmatized_text = \" \".join(lemmatized_tokens)\n",
    "\n",
    "    return lemmatized_text\n"
   ]
  },
  {
   "cell_type": "code",
   "execution_count": 17,
   "id": "1c4f04f6",
   "metadata": {
    "execution": {
     "iopub.execute_input": "2024-02-21T15:35:44.716867Z",
     "iopub.status.busy": "2024-02-21T15:35:44.716161Z",
     "iopub.status.idle": "2024-02-21T15:35:47.133997Z",
     "shell.execute_reply": "2024-02-21T15:35:47.132956Z"
    },
    "papermill": {
     "duration": 2.440489,
     "end_time": "2024-02-21T15:35:47.137216",
     "exception": false,
     "start_time": "2024-02-21T15:35:44.696727",
     "status": "completed"
    },
    "tags": []
   },
   "outputs": [],
   "source": [
    "## STOPWORDS do not add much meaning to text, hence are removed\n",
    "from nltk.corpus import stopwords\n",
    "def clean_text_round2(text):\n",
    "    return ' '.join([word for word in text.split() if word not in stopwords.words('english')])"
   ]
  },
  {
   "cell_type": "code",
   "execution_count": 18,
   "id": "4d5442ce",
   "metadata": {
    "execution": {
     "iopub.execute_input": "2024-02-21T15:35:47.173179Z",
     "iopub.status.busy": "2024-02-21T15:35:47.172090Z",
     "iopub.status.idle": "2024-02-21T15:35:47.178938Z",
     "shell.execute_reply": "2024-02-21T15:35:47.177754Z"
    },
    "papermill": {
     "duration": 0.02768,
     "end_time": "2024-02-21T15:35:47.181543",
     "exception": false,
     "start_time": "2024-02-21T15:35:47.153863",
     "status": "completed"
    },
    "tags": []
   },
   "outputs": [],
   "source": [
    "### I TRIED TO CONSOLIDATE ALL CLEANING FUNCTIONS INTO A SINGLE FUNCTION, BUT THIS SNIPPET IS NOT WORKING. FEEL FREE TO DEBUG AND LET ME KNOW TOO!! ###\n",
    "\n",
    "# def cleaning(text):\n",
    "#     clean_text_round1(text)\n",
    "#     contract(text)\n",
    "#     lemm(text)\n",
    "#     clean_text_round2(text)\n",
    "#     text = re.sub('[‘’]', '', text)\n",
    "#     return text"
   ]
  },
  {
   "cell_type": "markdown",
   "id": "46ccb670",
   "metadata": {
    "papermill": {
     "duration": 0.015697,
     "end_time": "2024-02-21T15:35:47.213204",
     "exception": false,
     "start_time": "2024-02-21T15:35:47.197507",
     "status": "completed"
    },
    "tags": []
   },
   "source": [
    "* ## The above functions are applied consecutively to clean the 'text' columns of both training and testing datasets simultaneously"
   ]
  },
  {
   "cell_type": "code",
   "execution_count": 19,
   "id": "cc735845",
   "metadata": {
    "execution": {
     "iopub.execute_input": "2024-02-21T15:35:47.247671Z",
     "iopub.status.busy": "2024-02-21T15:35:47.246460Z",
     "iopub.status.idle": "2024-02-21T15:35:47.719311Z",
     "shell.execute_reply": "2024-02-21T15:35:47.718095Z"
    },
    "papermill": {
     "duration": 0.49274,
     "end_time": "2024-02-21T15:35:47.721949",
     "exception": false,
     "start_time": "2024-02-21T15:35:47.229209",
     "status": "completed"
    },
    "tags": []
   },
   "outputs": [
    {
     "data": {
      "text/html": [
       "<div>\n",
       "<style scoped>\n",
       "    .dataframe tbody tr th:only-of-type {\n",
       "        vertical-align: middle;\n",
       "    }\n",
       "\n",
       "    .dataframe tbody tr th {\n",
       "        vertical-align: top;\n",
       "    }\n",
       "\n",
       "    .dataframe thead th {\n",
       "        text-align: right;\n",
       "    }\n",
       "</style>\n",
       "<table border=\"1\" class=\"dataframe\">\n",
       "  <thead>\n",
       "    <tr style=\"text-align: right;\">\n",
       "      <th></th>\n",
       "      <th>text</th>\n",
       "      <th>target</th>\n",
       "    </tr>\n",
       "  </thead>\n",
       "  <tbody>\n",
       "    <tr>\n",
       "      <th>0</th>\n",
       "      <td>our deeds are the reason of this earthquake ma...</td>\n",
       "      <td>1</td>\n",
       "    </tr>\n",
       "    <tr>\n",
       "      <th>1</th>\n",
       "      <td>forest fire near la ronge sask canada</td>\n",
       "      <td>1</td>\n",
       "    </tr>\n",
       "    <tr>\n",
       "      <th>2</th>\n",
       "      <td>all residents asked to shelter in place are be...</td>\n",
       "      <td>1</td>\n",
       "    </tr>\n",
       "    <tr>\n",
       "      <th>3</th>\n",
       "      <td>people receive wildfires evacuation orders in...</td>\n",
       "      <td>1</td>\n",
       "    </tr>\n",
       "    <tr>\n",
       "      <th>4</th>\n",
       "      <td>just got sent this photo from ruby alaska as s...</td>\n",
       "      <td>1</td>\n",
       "    </tr>\n",
       "  </tbody>\n",
       "</table>\n",
       "</div>"
      ],
      "text/plain": [
       "                                                text  target\n",
       "0  our deeds are the reason of this earthquake ma...       1\n",
       "1              forest fire near la ronge sask canada       1\n",
       "2  all residents asked to shelter in place are be...       1\n",
       "3   people receive wildfires evacuation orders in...       1\n",
       "4  just got sent this photo from ruby alaska as s...       1"
      ]
     },
     "execution_count": 19,
     "metadata": {},
     "output_type": "execute_result"
    }
   ],
   "source": [
    "inter_train['text']=inter_train['text'].apply(clean_text_round1)\n",
    "inter_test['text']=inter_test['text'].apply(clean_text_round1)\n",
    "\n",
    "inter_train.head()"
   ]
  },
  {
   "cell_type": "code",
   "execution_count": 20,
   "id": "f1d315c0",
   "metadata": {
    "execution": {
     "iopub.execute_input": "2024-02-21T15:35:47.756635Z",
     "iopub.status.busy": "2024-02-21T15:35:47.755941Z",
     "iopub.status.idle": "2024-02-21T15:35:47.934321Z",
     "shell.execute_reply": "2024-02-21T15:35:47.932988Z"
    },
    "papermill": {
     "duration": 0.199049,
     "end_time": "2024-02-21T15:35:47.937210",
     "exception": false,
     "start_time": "2024-02-21T15:35:47.738161",
     "status": "completed"
    },
    "tags": []
   },
   "outputs": [
    {
     "data": {
      "text/html": [
       "<div>\n",
       "<style scoped>\n",
       "    .dataframe tbody tr th:only-of-type {\n",
       "        vertical-align: middle;\n",
       "    }\n",
       "\n",
       "    .dataframe tbody tr th {\n",
       "        vertical-align: top;\n",
       "    }\n",
       "\n",
       "    .dataframe thead th {\n",
       "        text-align: right;\n",
       "    }\n",
       "</style>\n",
       "<table border=\"1\" class=\"dataframe\">\n",
       "  <thead>\n",
       "    <tr style=\"text-align: right;\">\n",
       "      <th></th>\n",
       "      <th>text</th>\n",
       "      <th>target</th>\n",
       "    </tr>\n",
       "  </thead>\n",
       "  <tbody>\n",
       "    <tr>\n",
       "      <th>0</th>\n",
       "      <td>our deeds are the reason of this earthquake ma...</td>\n",
       "      <td>1</td>\n",
       "    </tr>\n",
       "    <tr>\n",
       "      <th>1</th>\n",
       "      <td>forest fire near la ronge sask canada</td>\n",
       "      <td>1</td>\n",
       "    </tr>\n",
       "    <tr>\n",
       "      <th>2</th>\n",
       "      <td>all residents asked to shelter in place are be...</td>\n",
       "      <td>1</td>\n",
       "    </tr>\n",
       "    <tr>\n",
       "      <th>3</th>\n",
       "      <td>people receive wildfires evacuation orders in...</td>\n",
       "      <td>1</td>\n",
       "    </tr>\n",
       "    <tr>\n",
       "      <th>4</th>\n",
       "      <td>just got sent this photo from ruby alaska as s...</td>\n",
       "      <td>1</td>\n",
       "    </tr>\n",
       "  </tbody>\n",
       "</table>\n",
       "</div>"
      ],
      "text/plain": [
       "                                                text  target\n",
       "0  our deeds are the reason of this earthquake ma...       1\n",
       "1              forest fire near la ronge sask canada       1\n",
       "2  all residents asked to shelter in place are be...       1\n",
       "3   people receive wildfires evacuation orders in...       1\n",
       "4  just got sent this photo from ruby alaska as s...       1"
      ]
     },
     "execution_count": 20,
     "metadata": {},
     "output_type": "execute_result"
    }
   ],
   "source": [
    "inter_train['text']=inter_train['text'].apply(contract)\n",
    "inter_test['text']=inter_test['text'].apply(contract)\n",
    "\n",
    "inter_train.head()"
   ]
  },
  {
   "cell_type": "code",
   "execution_count": 21,
   "id": "0d18d9e0",
   "metadata": {
    "execution": {
     "iopub.execute_input": "2024-02-21T15:35:47.972758Z",
     "iopub.status.busy": "2024-02-21T15:35:47.972279Z",
     "iopub.status.idle": "2024-02-21T15:37:30.046858Z",
     "shell.execute_reply": "2024-02-21T15:37:30.045708Z"
    },
    "papermill": {
     "duration": 102.111469,
     "end_time": "2024-02-21T15:37:30.065709",
     "exception": false,
     "start_time": "2024-02-21T15:35:47.954240",
     "status": "completed"
    },
    "tags": []
   },
   "outputs": [
    {
     "data": {
      "text/html": [
       "<div>\n",
       "<style scoped>\n",
       "    .dataframe tbody tr th:only-of-type {\n",
       "        vertical-align: middle;\n",
       "    }\n",
       "\n",
       "    .dataframe tbody tr th {\n",
       "        vertical-align: top;\n",
       "    }\n",
       "\n",
       "    .dataframe thead th {\n",
       "        text-align: right;\n",
       "    }\n",
       "</style>\n",
       "<table border=\"1\" class=\"dataframe\">\n",
       "  <thead>\n",
       "    <tr style=\"text-align: right;\">\n",
       "      <th></th>\n",
       "      <th>text</th>\n",
       "      <th>target</th>\n",
       "    </tr>\n",
       "  </thead>\n",
       "  <tbody>\n",
       "    <tr>\n",
       "      <th>0</th>\n",
       "      <td>our deed be the reason of this earthquake may ...</td>\n",
       "      <td>1</td>\n",
       "    </tr>\n",
       "    <tr>\n",
       "      <th>1</th>\n",
       "      <td>forest fire near la ronge sask canada</td>\n",
       "      <td>1</td>\n",
       "    </tr>\n",
       "    <tr>\n",
       "      <th>2</th>\n",
       "      <td>all resident ask to shelter in place be be not...</td>\n",
       "      <td>1</td>\n",
       "    </tr>\n",
       "    <tr>\n",
       "      <th>3</th>\n",
       "      <td>people receive wildfire evacuation order in ...</td>\n",
       "      <td>1</td>\n",
       "    </tr>\n",
       "    <tr>\n",
       "      <th>4</th>\n",
       "      <td>just get send this photo from ruby alaska as s...</td>\n",
       "      <td>1</td>\n",
       "    </tr>\n",
       "  </tbody>\n",
       "</table>\n",
       "</div>"
      ],
      "text/plain": [
       "                                                text  target\n",
       "0  our deed be the reason of this earthquake may ...       1\n",
       "1              forest fire near la ronge sask canada       1\n",
       "2  all resident ask to shelter in place be be not...       1\n",
       "3    people receive wildfire evacuation order in ...       1\n",
       "4  just get send this photo from ruby alaska as s...       1"
      ]
     },
     "execution_count": 21,
     "metadata": {},
     "output_type": "execute_result"
    }
   ],
   "source": [
    "inter_train['text']=inter_train['text'].apply(lemm)\n",
    "inter_test['text']=inter_test['text'].apply(lemm)\n",
    "\n",
    "inter_train.head()"
   ]
  },
  {
   "cell_type": "code",
   "execution_count": 22,
   "id": "a6684fa4",
   "metadata": {
    "execution": {
     "iopub.execute_input": "2024-02-21T15:37:30.100504Z",
     "iopub.status.busy": "2024-02-21T15:37:30.100072Z",
     "iopub.status.idle": "2024-02-21T15:37:51.663571Z",
     "shell.execute_reply": "2024-02-21T15:37:51.662121Z"
    },
    "papermill": {
     "duration": 21.58433,
     "end_time": "2024-02-21T15:37:51.666424",
     "exception": false,
     "start_time": "2024-02-21T15:37:30.082094",
     "status": "completed"
    },
    "tags": []
   },
   "outputs": [
    {
     "data": {
      "text/html": [
       "<div>\n",
       "<style scoped>\n",
       "    .dataframe tbody tr th:only-of-type {\n",
       "        vertical-align: middle;\n",
       "    }\n",
       "\n",
       "    .dataframe tbody tr th {\n",
       "        vertical-align: top;\n",
       "    }\n",
       "\n",
       "    .dataframe thead th {\n",
       "        text-align: right;\n",
       "    }\n",
       "</style>\n",
       "<table border=\"1\" class=\"dataframe\">\n",
       "  <thead>\n",
       "    <tr style=\"text-align: right;\">\n",
       "      <th></th>\n",
       "      <th>text</th>\n",
       "      <th>target</th>\n",
       "    </tr>\n",
       "  </thead>\n",
       "  <tbody>\n",
       "    <tr>\n",
       "      <th>0</th>\n",
       "      <td>deed reason earthquake may allah forgive</td>\n",
       "      <td>1</td>\n",
       "    </tr>\n",
       "    <tr>\n",
       "      <th>1</th>\n",
       "      <td>forest fire near la ronge sask canada</td>\n",
       "      <td>1</td>\n",
       "    </tr>\n",
       "    <tr>\n",
       "      <th>2</th>\n",
       "      <td>resident ask shelter place notify officer evac...</td>\n",
       "      <td>1</td>\n",
       "    </tr>\n",
       "    <tr>\n",
       "      <th>3</th>\n",
       "      <td>people receive wildfire evacuation order calif...</td>\n",
       "      <td>1</td>\n",
       "    </tr>\n",
       "    <tr>\n",
       "      <th>4</th>\n",
       "      <td>get send photo ruby alaska smoke wildfires pou...</td>\n",
       "      <td>1</td>\n",
       "    </tr>\n",
       "  </tbody>\n",
       "</table>\n",
       "</div>"
      ],
      "text/plain": [
       "                                                text  target\n",
       "0           deed reason earthquake may allah forgive       1\n",
       "1              forest fire near la ronge sask canada       1\n",
       "2  resident ask shelter place notify officer evac...       1\n",
       "3  people receive wildfire evacuation order calif...       1\n",
       "4  get send photo ruby alaska smoke wildfires pou...       1"
      ]
     },
     "execution_count": 22,
     "metadata": {},
     "output_type": "execute_result"
    }
   ],
   "source": [
    "inter_train['text']=inter_train['text'].apply(clean_text_round2)\n",
    "inter_test['text']=inter_test['text'].apply(clean_text_round2)\n",
    "\n",
    "inter_train.head()"
   ]
  },
  {
   "cell_type": "code",
   "execution_count": 23,
   "id": "ece89d0c",
   "metadata": {
    "execution": {
     "iopub.execute_input": "2024-02-21T15:37:51.702975Z",
     "iopub.status.busy": "2024-02-21T15:37:51.702506Z",
     "iopub.status.idle": "2024-02-21T15:37:51.740228Z",
     "shell.execute_reply": "2024-02-21T15:37:51.738858Z"
    },
    "papermill": {
     "duration": 0.059387,
     "end_time": "2024-02-21T15:37:51.743196",
     "exception": false,
     "start_time": "2024-02-21T15:37:51.683809",
     "status": "completed"
    },
    "tags": []
   },
   "outputs": [],
   "source": [
    "inter_train['text']=inter_train['text'].apply(lambda x: re.sub('[‘’]', '', x))\n",
    "inter_test['text']=inter_test['text'].apply(lambda x: re.sub('[‘’]', '', x))"
   ]
  },
  {
   "cell_type": "code",
   "execution_count": 24,
   "id": "0bea19eb",
   "metadata": {
    "execution": {
     "iopub.execute_input": "2024-02-21T15:37:51.845756Z",
     "iopub.status.busy": "2024-02-21T15:37:51.845294Z",
     "iopub.status.idle": "2024-02-21T15:37:51.857274Z",
     "shell.execute_reply": "2024-02-21T15:37:51.856049Z"
    },
    "papermill": {
     "duration": 0.033468,
     "end_time": "2024-02-21T15:37:51.860086",
     "exception": false,
     "start_time": "2024-02-21T15:37:51.826618",
     "status": "completed"
    },
    "tags": []
   },
   "outputs": [
    {
     "data": {
      "text/html": [
       "<div>\n",
       "<style scoped>\n",
       "    .dataframe tbody tr th:only-of-type {\n",
       "        vertical-align: middle;\n",
       "    }\n",
       "\n",
       "    .dataframe tbody tr th {\n",
       "        vertical-align: top;\n",
       "    }\n",
       "\n",
       "    .dataframe thead th {\n",
       "        text-align: right;\n",
       "    }\n",
       "</style>\n",
       "<table border=\"1\" class=\"dataframe\">\n",
       "  <thead>\n",
       "    <tr style=\"text-align: right;\">\n",
       "      <th></th>\n",
       "      <th>text</th>\n",
       "      <th>target</th>\n",
       "    </tr>\n",
       "  </thead>\n",
       "  <tbody>\n",
       "    <tr>\n",
       "      <th>0</th>\n",
       "      <td>deed reason earthquake may allah forgive</td>\n",
       "      <td>1</td>\n",
       "    </tr>\n",
       "    <tr>\n",
       "      <th>1</th>\n",
       "      <td>forest fire near la ronge sask canada</td>\n",
       "      <td>1</td>\n",
       "    </tr>\n",
       "    <tr>\n",
       "      <th>2</th>\n",
       "      <td>resident ask shelter place notify officer evac...</td>\n",
       "      <td>1</td>\n",
       "    </tr>\n",
       "    <tr>\n",
       "      <th>3</th>\n",
       "      <td>people receive wildfire evacuation order calif...</td>\n",
       "      <td>1</td>\n",
       "    </tr>\n",
       "    <tr>\n",
       "      <th>4</th>\n",
       "      <td>get send photo ruby alaska smoke wildfires pou...</td>\n",
       "      <td>1</td>\n",
       "    </tr>\n",
       "  </tbody>\n",
       "</table>\n",
       "</div>"
      ],
      "text/plain": [
       "                                                text  target\n",
       "0           deed reason earthquake may allah forgive       1\n",
       "1              forest fire near la ronge sask canada       1\n",
       "2  resident ask shelter place notify officer evac...       1\n",
       "3  people receive wildfire evacuation order calif...       1\n",
       "4  get send photo ruby alaska smoke wildfires pou...       1"
      ]
     },
     "execution_count": 24,
     "metadata": {},
     "output_type": "execute_result"
    }
   ],
   "source": [
    "inter_train.head()"
   ]
  },
  {
   "cell_type": "code",
   "execution_count": 25,
   "id": "e6f18eb3",
   "metadata": {
    "execution": {
     "iopub.execute_input": "2024-02-21T15:37:51.896406Z",
     "iopub.status.busy": "2024-02-21T15:37:51.895956Z",
     "iopub.status.idle": "2024-02-21T15:37:51.906560Z",
     "shell.execute_reply": "2024-02-21T15:37:51.905401Z"
    },
    "papermill": {
     "duration": 0.031359,
     "end_time": "2024-02-21T15:37:51.908790",
     "exception": false,
     "start_time": "2024-02-21T15:37:51.877431",
     "status": "completed"
    },
    "tags": []
   },
   "outputs": [
    {
     "data": {
      "text/html": [
       "<div>\n",
       "<style scoped>\n",
       "    .dataframe tbody tr th:only-of-type {\n",
       "        vertical-align: middle;\n",
       "    }\n",
       "\n",
       "    .dataframe tbody tr th {\n",
       "        vertical-align: top;\n",
       "    }\n",
       "\n",
       "    .dataframe thead th {\n",
       "        text-align: right;\n",
       "    }\n",
       "</style>\n",
       "<table border=\"1\" class=\"dataframe\">\n",
       "  <thead>\n",
       "    <tr style=\"text-align: right;\">\n",
       "      <th></th>\n",
       "      <th>text</th>\n",
       "    </tr>\n",
       "  </thead>\n",
       "  <tbody>\n",
       "    <tr>\n",
       "      <th>0</th>\n",
       "      <td>happen terrible car crash</td>\n",
       "    </tr>\n",
       "    <tr>\n",
       "      <th>1</th>\n",
       "      <td>hear earthquake different city stay safe everyone</td>\n",
       "    </tr>\n",
       "    <tr>\n",
       "      <th>2</th>\n",
       "      <td>forest fire spot pond geese flee across street...</td>\n",
       "    </tr>\n",
       "    <tr>\n",
       "      <th>3</th>\n",
       "      <td>apocalypse light spokane wildfire</td>\n",
       "    </tr>\n",
       "    <tr>\n",
       "      <th>4</th>\n",
       "      <td>typhoon soudelor kill china taiwan</td>\n",
       "    </tr>\n",
       "  </tbody>\n",
       "</table>\n",
       "</div>"
      ],
      "text/plain": [
       "                                                text\n",
       "0                          happen terrible car crash\n",
       "1  hear earthquake different city stay safe everyone\n",
       "2  forest fire spot pond geese flee across street...\n",
       "3                  apocalypse light spokane wildfire\n",
       "4                 typhoon soudelor kill china taiwan"
      ]
     },
     "execution_count": 25,
     "metadata": {},
     "output_type": "execute_result"
    }
   ],
   "source": [
    "inter_test.head()"
   ]
  },
  {
   "cell_type": "markdown",
   "id": "0e52610f",
   "metadata": {
    "papermill": {
     "duration": 0.017154,
     "end_time": "2024-02-21T15:37:51.943481",
     "exception": false,
     "start_time": "2024-02-21T15:37:51.926327",
     "status": "completed"
    },
    "tags": []
   },
   "source": [
    "# Model Training and Evaluations\n",
    "* ## Logistic Regression, XGB, RF, Ensembling, Decision Trees, Gradient Boosting are used..."
   ]
  },
  {
   "cell_type": "code",
   "execution_count": 26,
   "id": "085c8a7e",
   "metadata": {
    "execution": {
     "iopub.execute_input": "2024-02-21T15:37:51.980411Z",
     "iopub.status.busy": "2024-02-21T15:37:51.979758Z",
     "iopub.status.idle": "2024-02-21T15:37:51.988470Z",
     "shell.execute_reply": "2024-02-21T15:37:51.987200Z"
    },
    "papermill": {
     "duration": 0.031315,
     "end_time": "2024-02-21T15:37:51.992180",
     "exception": false,
     "start_time": "2024-02-21T15:37:51.960865",
     "status": "completed"
    },
    "tags": []
   },
   "outputs": [],
   "source": [
    "from sklearn.feature_extraction.text import CountVectorizer\n",
    "from sklearn.feature_extraction.text import TfidfVectorizer\n",
    "from sklearn.pipeline import Pipeline\n",
    "from sklearn.model_selection import train_test_split\n",
    "from sklearn.metrics import accuracy_score, precision_score, recall_score, f1_score"
   ]
  },
  {
   "cell_type": "code",
   "execution_count": 27,
   "id": "941b1143",
   "metadata": {
    "execution": {
     "iopub.execute_input": "2024-02-21T15:37:52.030552Z",
     "iopub.status.busy": "2024-02-21T15:37:52.029762Z",
     "iopub.status.idle": "2024-02-21T15:37:52.038104Z",
     "shell.execute_reply": "2024-02-21T15:37:52.037029Z"
    },
    "papermill": {
     "duration": 0.030546,
     "end_time": "2024-02-21T15:37:52.040728",
     "exception": false,
     "start_time": "2024-02-21T15:37:52.010182",
     "status": "completed"
    },
    "tags": []
   },
   "outputs": [],
   "source": [
    "X_train,X_test,Y_train,Y_test=train_test_split(inter_train['text'],inter_train['target'],train_size=0.7)"
   ]
  },
  {
   "cell_type": "markdown",
   "id": "ce9e9321",
   "metadata": {
    "papermill": {
     "duration": 0.017109,
     "end_time": "2024-02-21T15:37:52.075231",
     "exception": false,
     "start_time": "2024-02-21T15:37:52.058122",
     "status": "completed"
    },
    "tags": []
   },
   "source": [
    "## LOGISTIC REGRESSION"
   ]
  },
  {
   "cell_type": "code",
   "execution_count": 28,
   "id": "9348bea4",
   "metadata": {
    "execution": {
     "iopub.execute_input": "2024-02-21T15:37:52.113445Z",
     "iopub.status.busy": "2024-02-21T15:37:52.112587Z",
     "iopub.status.idle": "2024-02-21T15:37:52.382562Z",
     "shell.execute_reply": "2024-02-21T15:37:52.381377Z"
    },
    "papermill": {
     "duration": 0.293653,
     "end_time": "2024-02-21T15:37:52.386500",
     "exception": false,
     "start_time": "2024-02-21T15:37:52.092847",
     "status": "completed"
    },
    "tags": []
   },
   "outputs": [
    {
     "name": "stdout",
     "output_type": "stream",
     "text": [
      "0.7278950370792926\n"
     ]
    }
   ],
   "source": [
    "from sklearn.linear_model import LogisticRegression\n",
    "pipe1=Pipeline([('tfidfv',TfidfVectorizer()),\n",
    "               ('lgr',LogisticRegression(solver='liblinear'))])\n",
    "\n",
    "# Various hyperparameters were used in hit and trial, and the above gave the best result\n",
    "\n",
    "model1=pipe1.fit(X_train,Y_train)\n",
    "print(f1_score(Y_test,model1.predict(X_test)))"
   ]
  },
  {
   "cell_type": "markdown",
   "id": "e2fa6afb",
   "metadata": {
    "papermill": {
     "duration": 0.017364,
     "end_time": "2024-02-21T15:37:52.430867",
     "exception": false,
     "start_time": "2024-02-21T15:37:52.413503",
     "status": "completed"
    },
    "tags": []
   },
   "source": [
    "## GRADIENT BOOST"
   ]
  },
  {
   "cell_type": "code",
   "execution_count": 29,
   "id": "2b4616e4",
   "metadata": {
    "execution": {
     "iopub.execute_input": "2024-02-21T15:37:52.469789Z",
     "iopub.status.busy": "2024-02-21T15:37:52.468514Z",
     "iopub.status.idle": "2024-02-21T15:39:10.839040Z",
     "shell.execute_reply": "2024-02-21T15:39:10.837855Z"
    },
    "papermill": {
     "duration": 78.409967,
     "end_time": "2024-02-21T15:39:10.858775",
     "exception": false,
     "start_time": "2024-02-21T15:37:52.448808",
     "status": "completed"
    },
    "tags": []
   },
   "outputs": [
    {
     "name": "stdout",
     "output_type": "stream",
     "text": [
      "0.6745098039215686\n"
     ]
    }
   ],
   "source": [
    "from sklearn.ensemble import GradientBoostingClassifier\n",
    "pipe2 = Pipeline([('tfidft', TfidfVectorizer()),\n",
    "                ('gb', GradientBoostingClassifier(max_depth=100))])\n",
    "model2=pipe2.fit(X_train,Y_train)\n",
    "print(f1_score(Y_test,model2.predict(X_test)))"
   ]
  },
  {
   "cell_type": "markdown",
   "id": "1fae99f0",
   "metadata": {
    "papermill": {
     "duration": 0.017414,
     "end_time": "2024-02-21T15:39:10.893787",
     "exception": false,
     "start_time": "2024-02-21T15:39:10.876373",
     "status": "completed"
    },
    "tags": []
   },
   "source": [
    "## ENSEMBLING of RF, LR, XGB"
   ]
  },
  {
   "cell_type": "code",
   "execution_count": 30,
   "id": "26f00f57",
   "metadata": {
    "execution": {
     "iopub.execute_input": "2024-02-21T15:39:10.930859Z",
     "iopub.status.busy": "2024-02-21T15:39:10.930434Z",
     "iopub.status.idle": "2024-02-21T15:39:48.172328Z",
     "shell.execute_reply": "2024-02-21T15:39:48.170979Z"
    },
    "papermill": {
     "duration": 37.280901,
     "end_time": "2024-02-21T15:39:48.192343",
     "exception": false,
     "start_time": "2024-02-21T15:39:10.911442",
     "status": "completed"
    },
    "tags": []
   },
   "outputs": [
    {
     "name": "stdout",
     "output_type": "stream",
     "text": [
      "Requirement already satisfied: xgboost in /opt/conda/lib/python3.10/site-packages (2.0.3)\r\n",
      "Requirement already satisfied: numpy in /opt/conda/lib/python3.10/site-packages (from xgboost) (1.24.4)\r\n",
      "Requirement already satisfied: scipy in /opt/conda/lib/python3.10/site-packages (from xgboost) (1.11.4)\r\n",
      "0.7140340575455079\n"
     ]
    }
   ],
   "source": [
    "!pip install xgboost\n",
    "from xgboost import XGBClassifier\n",
    "from sklearn.ensemble import RandomForestClassifier\n",
    "from sklearn.linear_model import LogisticRegression\n",
    "from sklearn.ensemble import VotingClassifier\n",
    "\n",
    "model_1 = LogisticRegression(solver = 'liblinear')\n",
    "model_2 = XGBClassifier(max_depth = 100)\n",
    "model_3 = RandomForestClassifier(max_depth = 100)\n",
    "\n",
    "\n",
    "pipe3 = Pipeline([('tfidfv', TfidfVectorizer()),\n",
    "\n",
    "                ('model', VotingClassifier(estimators = [('lr', model_1), ('XGBoost',model_2) , ('rf', model_3)], voting='hard'))])\n",
    "\n",
    "# Fitting the model\n",
    "\n",
    "model3 = pipe3.fit(X_train, Y_train)\n",
    "print(f1_score(Y_test,model3.predict(X_test)))\n"
   ]
  },
  {
   "cell_type": "markdown",
   "id": "dc4388c1",
   "metadata": {
    "papermill": {
     "duration": 0.017442,
     "end_time": "2024-02-21T15:39:48.227757",
     "exception": false,
     "start_time": "2024-02-21T15:39:48.210315",
     "status": "completed"
    },
    "tags": []
   },
   "source": [
    "## DECISION TREE CLASSIFIER"
   ]
  },
  {
   "cell_type": "code",
   "execution_count": 31,
   "id": "f6ea4924",
   "metadata": {
    "execution": {
     "iopub.execute_input": "2024-02-21T15:39:48.265885Z",
     "iopub.status.busy": "2024-02-21T15:39:48.265443Z",
     "iopub.status.idle": "2024-02-21T15:39:48.989296Z",
     "shell.execute_reply": "2024-02-21T15:39:48.987752Z"
    },
    "papermill": {
     "duration": 0.746667,
     "end_time": "2024-02-21T15:39:48.992302",
     "exception": false,
     "start_time": "2024-02-21T15:39:48.245635",
     "status": "completed"
    },
    "tags": []
   },
   "outputs": [
    {
     "name": "stdout",
     "output_type": "stream",
     "text": [
      "0.6604759141033082\n"
     ]
    }
   ],
   "source": [
    "from sklearn.tree import DecisionTreeClassifier\n",
    "\n",
    "pipe4 = Pipeline([('tfidfv', TfidfVectorizer()),\n",
    "                ('model', DecisionTreeClassifier(max_depth = 75))])\n",
    "\n",
    "# Fitting the model\n",
    "\n",
    "model4 = pipe4.fit(X_train, Y_train)\n",
    "print(f1_score(Y_test,model4.predict(X_test)))"
   ]
  },
  {
   "cell_type": "markdown",
   "id": "043a7a5f",
   "metadata": {
    "papermill": {
     "duration": 0.018388,
     "end_time": "2024-02-21T15:39:49.028943",
     "exception": false,
     "start_time": "2024-02-21T15:39:49.010555",
     "status": "completed"
    },
    "tags": []
   },
   "source": [
    "### SINCE LOGISTIC REGRESSION HAS HIGHEST SCORE, WE SUBMIT THIS MODEL FINALLY"
   ]
  },
  {
   "cell_type": "code",
   "execution_count": 32,
   "id": "320eb20b",
   "metadata": {
    "execution": {
     "iopub.execute_input": "2024-02-21T15:39:49.067400Z",
     "iopub.status.busy": "2024-02-21T15:39:49.066580Z",
     "iopub.status.idle": "2024-02-21T15:39:49.136501Z",
     "shell.execute_reply": "2024-02-21T15:39:49.134998Z"
    },
    "papermill": {
     "duration": 0.092565,
     "end_time": "2024-02-21T15:39:49.139504",
     "exception": false,
     "start_time": "2024-02-21T15:39:49.046939",
     "status": "completed"
    },
    "tags": []
   },
   "outputs": [],
   "source": [
    "pd.DataFrame({'id':'ids_test','target':model1.predict(inter_test['text'])}).to_csv('submission.csv',index=False)"
   ]
  }
 ],
 "metadata": {
  "kaggle": {
   "accelerator": "none",
   "dataSources": [
    {
     "databundleVersionId": 869809,
     "sourceId": 17777,
     "sourceType": "competition"
    }
   ],
   "dockerImageVersionId": 30646,
   "isGpuEnabled": false,
   "isInternetEnabled": true,
   "language": "python",
   "sourceType": "notebook"
  },
  "kernelspec": {
   "display_name": "Python 3",
   "language": "python",
   "name": "python3"
  },
  "language_info": {
   "codemirror_mode": {
    "name": "ipython",
    "version": 3
   },
   "file_extension": ".py",
   "mimetype": "text/x-python",
   "name": "python",
   "nbconvert_exporter": "python",
   "pygments_lexer": "ipython3",
   "version": "3.10.13"
  },
  "papermill": {
   "default_parameters": {},
   "duration": 276.290536,
   "end_time": "2024-02-21T15:39:50.683837",
   "environment_variables": {},
   "exception": null,
   "input_path": "__notebook__.ipynb",
   "output_path": "__notebook__.ipynb",
   "parameters": {},
   "start_time": "2024-02-21T15:35:14.393301",
   "version": "2.5.0"
  }
 },
 "nbformat": 4,
 "nbformat_minor": 5
}
